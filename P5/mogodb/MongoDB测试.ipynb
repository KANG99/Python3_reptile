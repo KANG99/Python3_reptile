{
 "cells": [
  {
   "cell_type": "markdown",
   "metadata": {},
   "source": [
    "1、链接MongoDB"
   ]
  },
  {
   "cell_type": "code",
   "execution_count": 2,
   "metadata": {},
   "outputs": [],
   "source": [
    "import pymongo\n",
    "\n",
    "client = pymongo.MongoClient(host='localhost',port=27017)\n",
    "#client = MongoClient('mongodb://localhost:27017')"
   ]
  },
  {
   "cell_type": "markdown",
   "metadata": {},
   "source": [
    "2、指定名为test的数据库"
   ]
  },
  {
   "cell_type": "code",
   "execution_count": 5,
   "metadata": {},
   "outputs": [],
   "source": [
    "db = client.test\n",
    "#db= client['test']"
   ]
  },
  {
   "cell_type": "markdown",
   "metadata": {},
   "source": [
    "3、指定集合，每个数据库里面存在的集合类似关系型数据库中表,调用名为students的集合"
   ]
  },
  {
   "cell_type": "code",
   "execution_count": 6,
   "metadata": {},
   "outputs": [],
   "source": [
    "collection = db.students\n",
    "#collection = db['students']"
   ]
  },
  {
   "cell_type": "markdown",
   "metadata": {},
   "source": [
    "4、插入数据，#MongoDB每条数据其实都有一个_id来唯一标识，如果没有指明该属，MongoDB会自动产生一个ObjectID类型的_id属性；利用集合的insert方法插入数据,insert()方法在执行后返回_id值"
   ]
  },
  {
   "cell_type": "code",
   "execution_count": 8,
   "metadata": {},
   "outputs": [
    {
     "name": "stderr",
     "output_type": "stream",
     "text": [
      "/home/kang/.local/lib/python3.6/site-packages/ipykernel_launcher.py:7: DeprecationWarning: insert is deprecated. Use insert_one or insert_many instead.\n",
      "  import sys\n"
     ]
    },
    {
     "name": "stdout",
     "output_type": "stream",
     "text": [
      "5dc58d4734116a14aca2c8a8\n"
     ]
    }
   ],
   "source": [
    "student = {\n",
    "\t'id':'20170101',\n",
    "\t'name':'Jordan',\n",
    "\t'age':20,\n",
    "\t'gender':'male'\n",
    "}\n",
    "result = collection.insert(student)\n",
    "print(result)"
   ]
  },
  {
   "cell_type": "markdown",
   "metadata": {},
   "source": [
    "可以将插入的对象放入到列表中，同时插入多条数据"
   ]
  },
  {
   "cell_type": "code",
   "execution_count": 9,
   "metadata": {},
   "outputs": [
    {
     "name": "stdout",
     "output_type": "stream",
     "text": [
      "[ObjectId('5dc58d6034116a14aca2c8a9'), ObjectId('5dc58d6034116a14aca2c8aa')]\n"
     ]
    },
    {
     "name": "stderr",
     "output_type": "stream",
     "text": [
      "/home/kang/.local/lib/python3.6/site-packages/ipykernel_launcher.py:13: DeprecationWarning: insert is deprecated. Use insert_one or insert_many instead.\n",
      "  del sys.path[0]\n"
     ]
    }
   ],
   "source": [
    "student1 = {\n",
    "\t'id':'20170102',\n",
    "\t'name':'Kobe',\n",
    "\t'age':19,\n",
    "\t'gender':'male'\n",
    "}\n",
    "student2 = {\n",
    "\t'id':'20170103',\n",
    "\t'name':'James',\n",
    "\t'age':19,\n",
    "\t'gender':'male'\n",
    "}\n",
    "results = collection.insert([student1,student2])\n",
    "print(results)"
   ]
  },
  {
   "cell_type": "markdown",
   "metadata": {},
   "source": [
    "python官方不推荐使用insert()方法插入数据，推荐insert_one()和insert_many()方法插入单条数据和多条数据\n",
    "insert_one()和insert_many()方法分别是InsertOneResult和InsertManyResult对象"
   ]
  },
  {
   "cell_type": "code",
   "execution_count": 11,
   "metadata": {},
   "outputs": [
    {
     "name": "stdout",
     "output_type": "stream",
     "text": [
      "<pymongo.results.InsertOneResult object at 0x7fa05254c888>\n",
      "5dc58dcd34116a14aca2c8ac\n"
     ]
    }
   ],
   "source": [
    "student3 = {\n",
    "\t'id':'20170104',\n",
    "\t'name':'Rose',\n",
    "\t'age':18,\n",
    "\t'gender':'male'\n",
    "}\n",
    "result = collection.insert_one(student3)\n",
    "print(result)\n",
    "print(result.inserted_id)"
   ]
  },
  {
   "cell_type": "markdown",
   "metadata": {},
   "source": [
    "使用insert_many()方法"
   ]
  },
  {
   "cell_type": "code",
   "execution_count": 12,
   "metadata": {},
   "outputs": [
    {
     "name": "stdout",
     "output_type": "stream",
     "text": [
      "<pymongo.results.InsertManyResult object at 0x7fa0685f5c08>\n",
      "[ObjectId('5dc58df434116a14aca2c8ad'), ObjectId('5dc58df434116a14aca2c8ae')]\n"
     ]
    }
   ],
   "source": [
    "student4 = {\n",
    "\t'id':'20170105',\n",
    "\t'name':'Alice',\n",
    "\t'age':17,\n",
    "\t'gender':'female'\n",
    "}\n",
    "student5 = {\n",
    "\t'id':'20170106',\n",
    "\t'name':'Lucy',\n",
    "\t'age':17,\n",
    "\t'gender':'female'\n",
    "}\n",
    "results = collection.insert_many([student4,student5])\n",
    "print(results)\n",
    "print(results.inserted_ids)"
   ]
  },
  {
   "cell_type": "markdown",
   "metadata": {},
   "source": [
    "5、查询，利用find_one()或者是find方法进行数据查询，find_one()查询得到单个结果"
   ]
  },
  {
   "cell_type": "code",
   "execution_count": 13,
   "metadata": {},
   "outputs": [
    {
     "name": "stdout",
     "output_type": "stream",
     "text": [
      "<class 'dict'>\n",
      "{'_id': ObjectId('5dc58d6034116a14aca2c8a9'), 'id': '20170102', 'name': 'Kobe', 'age': 19, 'gender': 'male'}\n"
     ]
    }
   ],
   "source": [
    "result = collection.find_one({'name':'Kobe'})\n",
    "print(type(result))\n",
    "print(result)"
   ]
  },
  {
   "cell_type": "markdown",
   "metadata": {},
   "source": [
    "利用find()返回一个cursor对象相当于生成器对象，查询多条数据"
   ]
  },
  {
   "cell_type": "code",
   "execution_count": 15,
   "metadata": {},
   "outputs": [
    {
     "name": "stdout",
     "output_type": "stream",
     "text": [
      "<pymongo.cursor.Cursor object at 0x7fa0525b6a20>\n",
      "{'_id': ObjectId('5dc58df434116a14aca2c8ad'), 'id': '20170105', 'name': 'Alice', 'age': 17, 'gender': 'female'}\n",
      "{'_id': ObjectId('5dc58df434116a14aca2c8ae'), 'id': '20170106', 'name': 'Lucy', 'age': 17, 'gender': 'female'}\n"
     ]
    }
   ],
   "source": [
    "results = collection.find({'age':17})\n",
    "print(results)\n",
    "for result in results:\n",
    "\tprint(result)"
   ]
  },
  {
   "cell_type": "markdown",
   "metadata": {},
   "source": [
    "通过比较运算符查询符合一定范围的内容"
   ]
  },
  {
   "attachments": {
    "image.png": {
     "image/png": "[encoded data removed]"
    }
   },
   "cell_type": "markdown",
   "metadata": {},
   "source": [
    "![image.png](attachment:image.png)"
   ]
  },
  {
   "cell_type": "code",
   "execution_count": 16,
   "metadata": {},
   "outputs": [
    {
     "name": "stdout",
     "output_type": "stream",
     "text": [
      "{'_id': ObjectId('5dc58d6034116a14aca2c8a9'), 'id': '20170102', 'name': 'Kobe', 'age': 19, 'gender': 'male'}\n",
      "{'_id': ObjectId('5dc58d6034116a14aca2c8aa'), 'id': '20170103', 'name': 'James', 'age': 19, 'gender': 'male'}\n",
      "{'_id': ObjectId('5dc58d9634116a14aca2c8ab'), 'id': '20170104', 'name': 'Rose', 'age': 18, 'gender': 'male'}\n",
      "{'_id': ObjectId('5dc58dcd34116a14aca2c8ac'), 'id': '20170104', 'name': 'Rose', 'age': 18, 'gender': 'male'}\n"
     ]
    }
   ],
   "source": [
    "results = collection.find({'age':{'$in':[18,19]}})\n",
    "for result in results:\n",
    "\tprint(result)"
   ]
  },
  {
   "cell_type": "markdown",
   "metadata": {},
   "source": [
    "通过正则匹配查询"
   ]
  },
  {
   "attachments": {
    "image.png": {
     "image/png": "[encoded data removed]"
    }
   },
   "cell_type": "markdown",
   "metadata": {},
   "source": [
    "![image.png](attachment:image.png)"
   ]
  },
  {
   "cell_type": "code",
   "execution_count": 19,
   "metadata": {},
   "outputs": [
    {
     "name": "stdout",
     "output_type": "stream",
     "text": [
      "{'_id': ObjectId('5dc58d4734116a14aca2c8a8'), 'id': '20170101', 'name': 'Jordan', 'age': 20, 'gender': 'male'}\n",
      "{'_id': ObjectId('5dc58d6034116a14aca2c8aa'), 'id': '20170103', 'name': 'James', 'age': 19, 'gender': 'male'}\n"
     ]
    }
   ],
   "source": [
    "results = collection.find({'name':{'$regex':'^J.*'}})\n",
    "for result in results:\n",
    "\tprint(result)"
   ]
  },
  {
   "cell_type": "markdown",
   "metadata": {},
   "source": [
    "6、计数，统计查询结果有多少条数据，使用count方法进行查询"
   ]
  },
  {
   "cell_type": "code",
   "execution_count": 26,
   "metadata": {},
   "outputs": [
    {
     "name": "stdout",
     "output_type": "stream",
     "text": [
      "2\n",
      "<class 'pymongo.cursor.Cursor'>\n"
     ]
    },
    {
     "name": "stderr",
     "output_type": "stream",
     "text": [
      "/home/kang/.local/lib/python3.6/site-packages/ipykernel_launcher.py:1: DeprecationWarning: count is deprecated. Use Collection.count_documents instead.\n",
      "  \"\"\"Entry point for launching an IPython kernel.\n"
     ]
    }
   ],
   "source": [
    "count = results.count()\n",
    "print(count)\n",
    "print(type(results))"
   ]
  },
  {
   "cell_type": "markdown",
   "metadata": {},
   "source": [
    "排序,利用sort方法，进行排序，传入升降序标识符(升序 ASCENDING 降序 DESCENDING)"
   ]
  },
  {
   "cell_type": "code",
   "execution_count": 27,
   "metadata": {},
   "outputs": [
    {
     "name": "stdout",
     "output_type": "stream",
     "text": [
      "['Alice', 'James', 'Jordan', 'Kobe', 'Lucy', 'Rose', 'Rose']\n"
     ]
    }
   ],
   "source": [
    "results = collection.find().sort('name',pymongo.ASCENDING)\n",
    "print([result['name'] for result in results])"
   ]
  },
  {
   "cell_type": "markdown",
   "metadata": {},
   "source": [
    "7、偏移,skip()方法偏移几个位置,用limit方法来限定要取出的结果个数"
   ]
  },
  {
   "cell_type": "code",
   "execution_count": 28,
   "metadata": {},
   "outputs": [
    {
     "name": "stdout",
     "output_type": "stream",
     "text": [
      "['James', 'Rose', 'Rose', 'Alice', 'Lucy']\n",
      "['James', 'Rose']\n"
     ]
    }
   ],
   "source": [
    "results = collection.find().sort('name,pymongo.ASCENDING').skip(2)\n",
    "print([result['name'] for result in results])\n",
    "\n",
    "results = collection.find().sort('name,pymongo.ASCENDING').skip(2).limit(2)\n",
    "print([result['name'] for result in results])"
   ]
  },
  {
   "cell_type": "markdown",
   "metadata": {},
   "source": [
    "8、更新,使用update方法，指定更新的条件和更新后的数据"
   ]
  },
  {
   "cell_type": "code",
   "execution_count": 29,
   "metadata": {},
   "outputs": [
    {
     "name": "stdout",
     "output_type": "stream",
     "text": [
      "{'_id': ObjectId('5dc58d6034116a14aca2c8aa'), 'id': '20170103', 'name': 'James', 'age': 19, 'gender': 'male'}\n",
      "{'n': 1, 'nModified': 1, 'ok': 1.0, 'updatedExisting': True}\n"
     ]
    },
    {
     "name": "stderr",
     "output_type": "stream",
     "text": [
      "/home/kang/.local/lib/python3.6/site-packages/ipykernel_launcher.py:5: DeprecationWarning: update is deprecated. Use replace_one, update_one or update_many instead.\n",
      "  \"\"\"\n"
     ]
    }
   ],
   "source": [
    "condition = {\"name\":\"James\"}\n",
    "student6 = collection.find_one(condition)\n",
    "print(student6)\n",
    "student6['age'] = 22\n",
    "result = collection.update(condition,student6)\n",
    "print(result)"
   ]
  },
  {
   "cell_type": "code",
   "execution_count": 30,
   "metadata": {},
   "outputs": [
    {
     "name": "stdout",
     "output_type": "stream",
     "text": [
      "{'_id': ObjectId('5dc58d6034116a14aca2c8aa'), 'id': '20170103', 'name': 'James', 'age': 22, 'gender': 'male'}\n"
     ]
    }
   ],
   "source": [
    "student6 = collection.find_one(condition)\n",
    "print(student6)"
   ]
  },
  {
   "cell_type": "markdown",
   "metadata": {},
   "source": [
    "可以使用$set操作符对数据进行更新，只更新student字典内存在的字段。,官方推荐使用update_one和update_many方法更新数据"
   ]
  },
  {
   "cell_type": "code",
   "execution_count": 31,
   "metadata": {},
   "outputs": [
    {
     "name": "stdout",
     "output_type": "stream",
     "text": [
      "{'_id': ObjectId('5dc58d6034116a14aca2c8aa'), 'id': '20170103', 'name': 'James', 'age': 22, 'gender': 'male'}\n",
      "<pymongo.results.UpdateResult object at 0x7fa052541788>\n",
      "1 1\n",
      "{'_id': ObjectId('5dc58d6034116a14aca2c8aa'), 'id': '20170103', 'name': 'James', 'age': 23, 'gender': 'male'}\n"
     ]
    }
   ],
   "source": [
    "condition = {\"name\":\"James\"}\n",
    "student6 = collection.find_one(condition)\n",
    "print(student6)\n",
    "student6['age'] = 23\n",
    "result = collection.update_one(condition,{'$set':student6})\n",
    "print(result)\n",
    "print(result.matched_count,result.modified_count)\n",
    "student6 = collection.find_one(condition)\n",
    "print(student6)"
   ]
  },
  {
   "cell_type": "code",
   "execution_count": 35,
   "metadata": {},
   "outputs": [
    {
     "name": "stdout",
     "output_type": "stream",
     "text": [
      "[{'_id': ObjectId('5dc58d4734116a14aca2c8a8'), 'id': '20170101', 'name': 'Jordan', 'age': 20, 'gender': 'male'}, {'_id': ObjectId('5dc58d6034116a14aca2c8aa'), 'id': '20170103', 'name': 'James', 'age': 25, 'gender': 'male'}]\n",
      "<pymongo.results.UpdateResult object at 0x7fa05254d7c8>\n",
      "2 2\n",
      "[{'_id': ObjectId('5dc58d4734116a14aca2c8a8'), 'id': '20170101', 'name': 'Jordan', 'age': 21, 'gender': 'male'}, {'_id': ObjectId('5dc58d6034116a14aca2c8aa'), 'id': '20170103', 'name': 'James', 'age': 26, 'gender': 'male'}]\n"
     ]
    }
   ],
   "source": [
    "condition = {'age':{'$gt':19}}\n",
    "students = collection.find(condition)\n",
    "print([student for student in students])\n",
    "result = collection.update_many(condition,{'$inc':{'age':1}})\n",
    "print(result)\n",
    "print(result.matched_count,result.modified_count)\n",
    "students = collection.find(condition)\n",
    "print([student for student in students])"
   ]
  },
  {
   "cell_type": "markdown",
   "metadata": {},
   "source": [
    "9、删除,remove方法指定删除条件，官方推荐使用delete_one()和delete_many()方法"
   ]
  },
  {
   "cell_type": "code",
   "execution_count": 37,
   "metadata": {},
   "outputs": [
    {
     "name": "stdout",
     "output_type": "stream",
     "text": [
      "{'_id': ObjectId('5dc58d6034116a14aca2c8aa'), 'id': '20170103', 'name': 'James', 'age': 26, 'gender': 'male'}\n",
      "{'n': 0, 'ok': 1.0}\n",
      "<pymongo.cursor.Cursor object at 0x7fa0524eeb38>\n",
      "0\n",
      "{'_id': ObjectId('5dc58d6034116a14aca2c8aa'), 'id': '20170103', 'name': 'James', 'age': 26, 'gender': 'male'}\n"
     ]
    },
    {
     "name": "stderr",
     "output_type": "stream",
     "text": [
      "/home/kang/.local/lib/python3.6/site-packages/ipykernel_launcher.py:4: DeprecationWarning: remove is deprecated. Use delete_one or delete_many instead.\n",
      "  after removing the cwd from sys.path.\n"
     ]
    }
   ],
   "source": [
    "students = collection.find()\n",
    "for student in students:\n",
    "\tprint(student)\n",
    "result = collection.remove({'name':'Kobe'})\n",
    "print(result)\n",
    "students = collection.find()\n",
    "print(students)\n",
    "result = collection.delete_many({'age':{'$lt':25}})\n",
    "print(result.deleted_count)\n",
    "students = collection.find()\n",
    "for student in students:\n",
    "\tprint(student)"
   ]
  },
  {
   "cell_type": "code",
   "execution_count": null,
   "metadata": {},
   "outputs": [],
   "source": []
  }
 ],
 "metadata": {
  "kernelspec": {
   "display_name": "Python 3",
   "language": "python",
   "name": "python3"
  },
  "language_info": {
   "codemirror_mode": {
    "name": "ipython",
    "version": 3
   },
   "file_extension": ".py",
   "mimetype": "text/x-python",
   "name": "python",
   "nbconvert_exporter": "python",
   "pygments_lexer": "ipython3",
   "version": "3.7.0"
  }
 },
 "nbformat": 4,
 "nbformat_minor": 2
}
